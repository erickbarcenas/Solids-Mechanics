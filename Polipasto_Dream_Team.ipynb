{
  "nbformat": 4,
  "nbformat_minor": 0,
  "metadata": {
    "colab": {
      "name": "Polipasto Dream Team.ipynb",
      "provenance": [],
      "include_colab_link": true
    },
    "kernelspec": {
      "name": "python3",
      "display_name": "Python 3"
    }
  },
  "cells": [
    {
      "cell_type": "markdown",
      "metadata": {
        "id": "view-in-github",
        "colab_type": "text"
      },
      "source": [
        "<a href=\"https://colab.research.google.com/github/erickbarcenas/Solids-Mechanics/blob/master/Polipasto_Dream_Team.ipynb\" target=\"_parent\"><img src=\"https://colab.research.google.com/assets/colab-badge.svg\" alt=\"Open In Colab\"/></a>"
      ]
    },
    {
      "cell_type": "code",
      "metadata": {
        "id": "9t2XY3U_tjCa",
        "colab_type": "code",
        "colab": {
          "base_uri": "https://localhost:8080/",
          "height": 38
        },
        "outputId": "1886fa64-cffa-4850-e803-d9ddefb49c98"
      },
      "source": [
        "%%html\n",
        "<marquee style='width: 40%; color: blue;'><b>Dream Team!</b></marquee>"
      ],
      "execution_count": 62,
      "outputs": [
        {
          "output_type": "display_data",
          "data": {
            "text/html": [
              "<marquee style='width: 40%; color: blue;'><b>Dream Team!</b></marquee>"
            ],
            "text/plain": [
              "<IPython.core.display.HTML object>"
            ]
          },
          "metadata": {
            "tags": []
          }
        }
      ]
    },
    {
      "cell_type": "markdown",
      "metadata": {
        "id": "MVuizBOwaSqb",
        "colab_type": "text"
      },
      "source": [
        "![texto alternativo](https://github.com/erickbarcenas/Solids-Mechanics/blob/master/Photos/Especifications/1.JPG?raw=true)"
      ]
    },
    {
      "cell_type": "markdown",
      "metadata": {
        "id": "oNMywhZscDzl",
        "colab_type": "text"
      },
      "source": [
        "![texto alternativo](https://github.com/erickbarcenas/Solids-Mechanics/blob/master/Photos/Especifications/2.JPG?raw=true)"
      ]
    },
    {
      "cell_type": "markdown",
      "metadata": {
        "id": "1JFTxJEnIf_o",
        "colab_type": "text"
      },
      "source": [
        "**POLIPASTO CON TROLE FIJA AL CENTRO DE TRAVESAÑO **"
      ]
    },
    {
      "cell_type": "markdown",
      "metadata": {
        "id": "_KeOkbJLdM-7",
        "colab_type": "text"
      },
      "source": [
        "![texto alternativo](https://github.com/erickbarcenas/Solids-Mechanics/blob/master/Photos/Especifications/3.JPG?raw=true)"
      ]
    },
    {
      "cell_type": "markdown",
      "metadata": {
        "id": "UV7CtK7fdWeq",
        "colab_type": "text"
      },
      "source": [
        "![texto alternativo](https://github.com/erickbarcenas/Solids-Mechanics/blob/master/Photos/Especifications/4.JPG?raw=true)\n",
        "\n"
      ]
    },
    {
      "cell_type": "markdown",
      "metadata": {
        "id": "TWonu1s6fTJE",
        "colab_type": "text"
      },
      "source": [
        "a) \n",
        "\n",
        "![texto alternativo](https://github.com/erickbarcenas/Solids-Mechanics/blob/master/Photos/evidences/A_Desing/borrar.jpeg?raw=true)"
      ]
    },
    {
      "cell_type": "markdown",
      "metadata": {
        "id": "J_lhGF3Yfz4-",
        "colab_type": "text"
      },
      "source": [
        "b)\n",
        "\n",
        "![texto alternativo](https://github.com/erickbarcenas/Solids-Mechanics/blob/master/Photos/evidences/A_Desing/borrar_plano.jpeg?raw=true)\n",
        "\n"
      ]
    },
    {
      "cell_type": "markdown",
      "metadata": {
        "id": "Jq9xPgw0dV3X",
        "colab_type": "text"
      },
      "source": [
        "![texto alternativo](https://github.com/erickbarcenas/Solids-Mechanics/blob/master/Photos/Especifications/5.JPG?raw=true)"
      ]
    },
    {
      "cell_type": "markdown",
      "metadata": {
        "id": "wm_W6lhegpY9",
        "colab_type": "text"
      },
      "source": [
        "###a. Propiedades del Material - Acero 1045\n",
        "\n",
        "---\n",
        "\n",
        "b. \n",
        "\n",
        "\n",
        "> $σy = 20$\n",
        "\n",
        "> $E = 1111$ \n",
        "\n",
        "> $G = 111$\n",
        "\n",
        "\n",
        "\n",
        "\n",
        "\n",
        "\n"
      ]
    },
    {
      "cell_type": "code",
      "metadata": {
        "colab_type": "code",
        "id": "u-wNYf1gjGxu",
        "colab": {}
      },
      "source": [
        "σy = 11111\n",
        "E = 11111\n",
        "G = 1111"
      ],
      "execution_count": 0,
      "outputs": []
    },
    {
      "cell_type": "markdown",
      "metadata": {
        "id": "KRhNC4SLn114",
        "colab_type": "text"
      },
      "source": [
        "####  Perfil\n",
        "\n",
        ">$Base = \\dfrac{1}{8} in$\n",
        "\n",
        ">$Altura = 1 \\dfrac{1}{4} in$\n",
        "\n",
        ">$C = \\dfrac{1}{4} in$"
      ]
    },
    {
      "cell_type": "code",
      "metadata": {
        "id": "iEVWL8s2xCSk",
        "colab_type": "code",
        "colab": {}
      },
      "source": [
        "Base = (1/8)/39.37\n",
        "Altura = (1.25)/39.37\n",
        "C = Base/2\n",
        "\n"
      ],
      "execution_count": 0,
      "outputs": []
    },
    {
      "cell_type": "markdown",
      "metadata": {
        "id": "n4VlK9HWjuo1",
        "colab_type": "text"
      },
      "source": [
        "#### M = Fd\n",
        "\n",
        "> $m = 3 [kg]$\n",
        "\n",
        "> $g = 9.78 [m/s^2]$\n",
        "\n",
        "> $d = 0.25 [m]$\n",
        "\n",
        "\n",
        "\n",
        "\n",
        "\n",
        "\n",
        "\n"
      ]
    },
    {
      "cell_type": "code",
      "metadata": {
        "id": "egAxB1Ockbyu",
        "colab_type": "code",
        "colab": {}
      },
      "source": [
        "m = 3\n",
        "g = 9.78\n",
        "d = 0.25"
      ],
      "execution_count": 0,
      "outputs": []
    },
    {
      "cell_type": "code",
      "metadata": {
        "id": "RPG2MtGxlLgL",
        "colab_type": "code",
        "colab": {
          "base_uri": "https://localhost:8080/",
          "height": 34
        },
        "outputId": "a5dfa38e-37b9-476d-ec8b-5d1c9a1d931c"
      },
      "source": [
        "F = m*g\n",
        "M = F*d\n",
        "M #[N/m]"
      ],
      "execution_count": 66,
      "outputs": [
        {
          "output_type": "execute_result",
          "data": {
            "text/plain": [
              "7.334999999999999"
            ]
          },
          "metadata": {
            "tags": []
          },
          "execution_count": 66
        }
      ]
    },
    {
      "cell_type": "markdown",
      "metadata": {
        "id": "sMOgqvgCwNzJ",
        "colab_type": "text"
      },
      "source": [
        "$σy = \\dfrac{MC}{I} $\n",
        "\n",
        "> $I = \\dfrac{1}{12} Base*(Altura)^3$"
      ]
    },
    {
      "cell_type": "code",
      "metadata": {
        "id": "wz1fnqxWw-YQ",
        "colab_type": "code",
        "colab": {
          "base_uri": "https://localhost:8080/",
          "height": 34
        },
        "outputId": "12d729d3-19c2-4dba-d779-53aa0e5ff05f"
      },
      "source": [
        "I = (1/12)*(Base)*(Altura)**3 \n",
        "I # [m^4]\n"
      ],
      "execution_count": 67,
      "outputs": [
        {
          "output_type": "execute_result",
          "data": {
            "text/plain": [
              "8.46831777889108e-09"
            ]
          },
          "metadata": {
            "tags": []
          },
          "execution_count": 67
        }
      ]
    },
    {
      "cell_type": "code",
      "metadata": {
        "id": "mRLT5nAwzMp1",
        "colab_type": "code",
        "colab": {
          "base_uri": "https://localhost:8080/",
          "height": 34
        },
        "outputId": "5f7687fe-1c6e-4ab3-929f-8ae0801c2248"
      },
      "source": [
        "σy = (M*C)/I\n",
        "σy # [Pa]"
      ],
      "execution_count": 68,
      "outputs": [
        {
          "output_type": "execute_result",
          "data": {
            "text/plain": [
              "1375047.0982203027"
            ]
          },
          "metadata": {
            "tags": []
          },
          "execution_count": 68
        }
      ]
    },
    {
      "cell_type": "markdown",
      "metadata": {
        "id": "5nft_0YG1c-5",
        "colab_type": "text"
      },
      "source": [
        "#####  σy \n",
        ">σy Calculado | σy Teórico\n",
        ">--- | ---\n",
        ">AAAA | BBBB\n"
      ]
    },
    {
      "cell_type": "markdown",
      "metadata": {
        "id": "67L1Ey-M2Ltf",
        "colab_type": "text"
      },
      "source": [
        "![Radio de curvatura](https://github.com/erickbarcenas/Solids-Mechanics/blob/master/Photos/evidences/B-Dimensioning/R_curvatura.png?raw=true)"
      ]
    },
    {
      "cell_type": "markdown",
      "metadata": {
        "id": "Mo75426aXQ9H",
        "colab_type": "text"
      },
      "source": [
        "![texto alternativo](https://github.com/erickbarcenas/Solids-Mechanics/blob/master/Photos/Especifications/6.JPG?raw=true)"
      ]
    },
    {
      "cell_type": "markdown",
      "metadata": {
        "id": "ITlUDBc8iq-q",
        "colab_type": "text"
      },
      "source": [
        "a. Propiedades del Material -  Hilo Brackets\n",
        "\n",
        "---\n",
        "\n",
        "b. \n",
        "\n",
        "\n",
        "> $E = 11$\n",
        "\n",
        "\n",
        "> $σ = 20$\n",
        "\n",
        "---\n",
        "\n",
        "c. \n",
        "\n"
      ]
    },
    {
      "cell_type": "code",
      "metadata": {
        "colab_type": "code",
        "id": "GNkX7KFkjKFG",
        "colab": {}
      },
      "source": [
        "E2 = 11111\n",
        "σ2 = 11111\n"
      ],
      "execution_count": 0,
      "outputs": []
    },
    {
      "cell_type": "code",
      "metadata": {
        "colab_type": "code",
        "outputId": "f58fb8b5-445c-4266-8456-1e9c823a9aa0",
        "id": "ZQ4OKmPpi9UH",
        "colab": {
          "base_uri": "https://localhost:8080/",
          "height": 34
        }
      },
      "source": [
        "E2 * σ2"
      ],
      "execution_count": 71,
      "outputs": [
        {
          "output_type": "execute_result",
          "data": {
            "text/plain": [
              "123454321"
            ]
          },
          "metadata": {
            "tags": []
          },
          "execution_count": 71
        }
      ]
    },
    {
      "cell_type": "markdown",
      "metadata": {
        "id": "FBA-Cn89doD_",
        "colab_type": "text"
      },
      "source": [
        "![texto alternativo](https://github.com/erickbarcenas/Solids-Mechanics/blob/master/Photos/Especifications/7.JPG?raw=true)"
      ]
    },
    {
      "cell_type": "markdown",
      "metadata": {
        "id": "NmM3xpYMdoN1",
        "colab_type": "text"
      },
      "source": [
        "![texto alternativo](https://github.com/erickbarcenas/Solids-Mechanics/blob/master/Photos/Especifications/8.JPG?raw=true)"
      ]
    },
    {
      "cell_type": "markdown",
      "metadata": {
        "id": "NRgEUUSRItqC",
        "colab_type": "text"
      },
      "source": [
        "![texto alternativo](https://github.com/erickbarcenas/Solids-Mechanics/blob/master/Photos/Especifications/9.JPG?raw=true)"
      ]
    },
    {
      "cell_type": "markdown",
      "metadata": {
        "id": "jd6ahWt8d3vI",
        "colab_type": "text"
      },
      "source": [
        "![texto alternativo](https://github.com/erickbarcenas/Solids-Mechanics/blob/master/Photos/Especifications/10.JPG?raw=true)"
      ]
    },
    {
      "cell_type": "markdown",
      "metadata": {
        "id": "e75okHqXI6BK",
        "colab_type": "text"
      },
      "source": [
        "Obtener el Par (T)\n",
        "\n",
        "Masa (M): 2 [kg]\n",
        "\n",
        "Gravedad (G): 9.78 m/s^2\n",
        "\n",
        "Distancia de la masa al motor (d): 0.25 [m]\n"
      ]
    },
    {
      "cell_type": "code",
      "metadata": {
        "id": "mQnEsBfHIbOH",
        "colab_type": "code",
        "colab": {}
      },
      "source": [
        "M = 2 \n",
        "G = 9.78\n",
        "d = 0.25 \n"
      ],
      "execution_count": 0,
      "outputs": []
    },
    {
      "cell_type": "code",
      "metadata": {
        "id": "KP40yBf7JNjM",
        "colab_type": "code",
        "colab": {}
      },
      "source": [
        "T = M*G*d"
      ],
      "execution_count": 0,
      "outputs": []
    },
    {
      "cell_type": "code",
      "metadata": {
        "id": "LLmGdT-qJcOK",
        "colab_type": "code",
        "outputId": "7c139442-6d82-4a09-ed53-8a0d8d61008f",
        "colab": {
          "base_uri": "https://localhost:8080/",
          "height": 34
        }
      },
      "source": [
        "T\n"
      ],
      "execution_count": 74,
      "outputs": [
        {
          "output_type": "execute_result",
          "data": {
            "text/plain": [
              "4.89"
            ]
          },
          "metadata": {
            "tags": []
          },
          "execution_count": 74
        }
      ]
    }
  ]
}